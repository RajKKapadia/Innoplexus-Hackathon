{
  "nbformat": 4,
  "nbformat_minor": 0,
  "metadata": {
    "colab": {
      "name": "Plain CRF.ipynb",
      "version": "0.3.2",
      "provenance": []
    },
    "kernelspec": {
      "name": "python3",
      "display_name": "Python 3"
    },
    "accelerator": "GPU"
  },
  "cells": [
    {
      "metadata": {
        "id": "ZJjw6IY_vtos",
        "colab_type": "code",
        "outputId": "8f77418b-8fd6-4488-96e8-ba7afec1a094",
        "colab": {
          "base_uri": "https://localhost:8080/",
          "height": 122
        }
      },
      "cell_type": "code",
      "source": [
        "from google.colab import drive\n",
        "drive.mount('/gdrive')"
      ],
      "execution_count": 1,
      "outputs": [
        {
          "output_type": "stream",
          "text": [
            "Go to this URL in a browser: https://accounts.google.com/o/oauth2/auth?client_id=947318989803-6bn6qk8qdgf4n4g3pfee6491hc0brc4i.apps.googleusercontent.com&redirect_uri=urn%3Aietf%3Awg%3Aoauth%3A2.0%3Aoob&scope=email%20https%3A%2F%2Fwww.googleapis.com%2Fauth%2Fdocs.test%20https%3A%2F%2Fwww.googleapis.com%2Fauth%2Fdrive%20https%3A%2F%2Fwww.googleapis.com%2Fauth%2Fdrive.photos.readonly%20https%3A%2F%2Fwww.googleapis.com%2Fauth%2Fpeopleapi.readonly&response_type=code\n",
            "\n",
            "Enter your authorization code:\n",
            "··········\n",
            "Mounted at /gdrive\n"
          ],
          "name": "stdout"
        }
      ]
    },
    {
      "metadata": {
        "id": "0a-ILHnQv9hB",
        "colab_type": "code",
        "colab": {}
      },
      "cell_type": "code",
      "source": [
        "BASE_PATH = \"/gdrive/My Drive/Colab Notebooks/Innoplexus/\""
      ],
      "execution_count": 0,
      "outputs": []
    },
    {
      "metadata": {
        "id": "BIlzVVYvwQUn",
        "colab_type": "code",
        "outputId": "f197272a-04c8-44a7-9d2e-e9413516c06f",
        "colab": {
          "base_uri": "https://localhost:8080/",
          "height": 51
        }
      },
      "cell_type": "code",
      "source": [
        "import zipfile\n",
        "\n",
        "print(\"Uncompressing the zip file...\")\n",
        "zip_ref = zipfile.ZipFile(BASE_PATH+\"Innoplexus.zip\", \"r\")\n",
        "zip_ref.extractall(\"Innoplexus/\")\n",
        "zip_ref.close()\n",
        "print(\"Finished...\")"
      ],
      "execution_count": 3,
      "outputs": [
        {
          "output_type": "stream",
          "text": [
            "Uncompressing the zip file...\n",
            "Finished...\n"
          ],
          "name": "stdout"
        }
      ]
    },
    {
      "metadata": {
        "id": "SJ_kLCRvwmgD",
        "colab_type": "code",
        "colab": {}
      },
      "cell_type": "code",
      "source": [
        "DATA_PATH = \"Innoplexus/Innoplexus/\""
      ],
      "execution_count": 0,
      "outputs": []
    },
    {
      "metadata": {
        "id": "r-fXDbCqwwm7",
        "colab_type": "code",
        "colab": {}
      },
      "cell_type": "code",
      "source": [
        "import pandas as pd\n",
        "import numpy as np\n",
        "\n",
        "from sklearn.model_selection import train_test_split"
      ],
      "execution_count": 0,
      "outputs": []
    },
    {
      "metadata": {
        "id": "YthIIWswZF3p",
        "colab_type": "code",
        "outputId": "e59bd531-95ac-4e79-80c4-0513b0dd727f",
        "colab": {
          "base_uri": "https://localhost:8080/",
          "height": 34
        }
      },
      "cell_type": "code",
      "source": [
        "!pip install -q sklearn_crfsuite\n",
        "import sklearn_crfsuite\n",
        "\n",
        "from sklearn_crfsuite import metrics"
      ],
      "execution_count": 6,
      "outputs": [
        {
          "output_type": "stream",
          "text": [
            "\u001b[?25l\r\u001b[K    1% |▍                               | 10kB 19.8MB/s eta 0:00:01\r\u001b[K    2% |▉                               | 20kB 4.5MB/s eta 0:00:01\r\u001b[K    4% |█▎                              | 30kB 6.4MB/s eta 0:00:01\r\u001b[K    5% |█▊                              | 40kB 8.0MB/s eta 0:00:01\r\u001b[K    6% |██▏                             | 51kB 9.5MB/s eta 0:00:01\r\u001b[K    8% |██▋                             | 61kB 11.1MB/s eta 0:00:01\r\u001b[K    9% |███                             | 71kB 12.3MB/s eta 0:00:01\r\u001b[K    10% |███▌                            | 81kB 8.2MB/s eta 0:00:01\r\u001b[K    12% |████                            | 92kB 9.0MB/s eta 0:00:01\r\u001b[K    13% |████▍                           | 102kB 9.8MB/s eta 0:00:01\r\u001b[K    14% |████▉                           | 112kB 10.1MB/s eta 0:00:01\r\u001b[K    16% |█████▏                          | 122kB 16.3MB/s eta 0:00:01\r\u001b[K    17% |█████▋                          | 133kB 16.0MB/s eta 0:00:01\r\u001b[K    19% |██████                          | 143kB 16.4MB/s eta 0:00:01\r\u001b[K    20% |██████▌                         | 153kB 16.6MB/s eta 0:00:01\r\u001b[K    21% |███████                         | 163kB 16.5MB/s eta 0:00:01\r\u001b[K    23% |███████▍                        | 174kB 15.8MB/s eta 0:00:01\r\u001b[K    24% |███████▉                        | 184kB 41.5MB/s eta 0:00:01\r\u001b[K    25% |████████▎                       | 194kB 42.3MB/s eta 0:00:01\r\u001b[K    27% |████████▊                       | 204kB 20.6MB/s eta 0:00:01\r\u001b[K    28% |█████████▏                      | 215kB 20.8MB/s eta 0:00:01\r\u001b[K    29% |█████████▋                      | 225kB 20.9MB/s eta 0:00:01\r\u001b[K    31% |██████████                      | 235kB 21.1MB/s eta 0:00:01\r\u001b[K    32% |██████████▍                     | 245kB 21.1MB/s eta 0:00:01\r\u001b[K    33% |██████████▉                     | 256kB 21.1MB/s eta 0:00:01\r\u001b[K    35% |███████████▎                    | 266kB 20.3MB/s eta 0:00:01\r\u001b[K    36% |███████████▊                    | 276kB 21.3MB/s eta 0:00:01\r\u001b[K    38% |████████████▏                   | 286kB 21.2MB/s eta 0:00:01\r\u001b[K    39% |████████████▋                   | 296kB 21.1MB/s eta 0:00:01\r\u001b[K    40% |█████████████                   | 307kB 44.0MB/s eta 0:00:01\r\u001b[K    42% |█████████████▌                  | 317kB 43.8MB/s eta 0:00:01\r\u001b[K    43% |██████████████                  | 327kB 43.4MB/s eta 0:00:01\r\u001b[K    44% |██████████████▍                 | 337kB 45.2MB/s eta 0:00:01\r\u001b[K    46% |██████████████▊                 | 348kB 41.3MB/s eta 0:00:01\r\u001b[K    47% |███████████████▏                | 358kB 40.8MB/s eta 0:00:01\r\u001b[K    48% |███████████████▋                | 368kB 44.1MB/s eta 0:00:01\r\u001b[K    50% |████████████████                | 378kB 46.0MB/s eta 0:00:01\r\u001b[K    51% |████████████████▌               | 389kB 47.3MB/s eta 0:00:01\r\u001b[K    52% |█████████████████               | 399kB 47.4MB/s eta 0:00:01\r\u001b[K    54% |█████████████████▍              | 409kB 46.9MB/s eta 0:00:01\r\u001b[K    55% |█████████████████▉              | 419kB 47.9MB/s eta 0:00:01\r\u001b[K    57% |██████████████████▎             | 430kB 42.4MB/s eta 0:00:01\r\u001b[K    58% |██████████████████▊             | 440kB 40.5MB/s eta 0:00:01\r\u001b[K    59% |███████████████████▏            | 450kB 38.2MB/s eta 0:00:01\r\u001b[K    61% |███████████████████▌            | 460kB 38.5MB/s eta 0:00:01\r\u001b[K    62% |████████████████████            | 471kB 38.9MB/s eta 0:00:01\r\u001b[K    63% |████████████████████▍           | 481kB 38.6MB/s eta 0:00:01\r\u001b[K    65% |████████████████████▉           | 491kB 38.0MB/s eta 0:00:01\r\u001b[K    66% |█████████████████████▎          | 501kB 38.1MB/s eta 0:00:01\r\u001b[K    67% |█████████████████████▊          | 512kB 35.9MB/s eta 0:00:01\r\u001b[K    69% |██████████████████████▏         | 522kB 35.6MB/s eta 0:00:01\r\u001b[K    70% |██████████████████████▋         | 532kB 39.5MB/s eta 0:00:01\r\u001b[K    71% |███████████████████████         | 542kB 41.1MB/s eta 0:00:01\r\u001b[K    73% |███████████████████████▌        | 552kB 49.0MB/s eta 0:00:01\r\u001b[K    74% |████████████████████████        | 563kB 48.0MB/s eta 0:00:01\r\u001b[K    76% |████████████████████████▎       | 573kB 47.3MB/s eta 0:00:01\r\u001b[K    77% |████████████████████████▊       | 583kB 48.4MB/s eta 0:00:01\r\u001b[K    78% |█████████████████████████▏      | 593kB 49.1MB/s eta 0:00:01\r\u001b[K    80% |█████████████████████████▋      | 604kB 49.9MB/s eta 0:00:01\r\u001b[K    81% |██████████████████████████      | 614kB 55.4MB/s eta 0:00:01\r\u001b[K    82% |██████████████████████████▌     | 624kB 53.6MB/s eta 0:00:01\r\u001b[K    84% |███████████████████████████     | 634kB 54.6MB/s eta 0:00:01\r\u001b[K    85% |███████████████████████████▍    | 645kB 53.9MB/s eta 0:00:01\r\u001b[K    86% |███████████████████████████▉    | 655kB 53.5MB/s eta 0:00:01\r\u001b[K    88% |████████████████████████████▎   | 665kB 49.9MB/s eta 0:00:01\r\u001b[K    89% |████████████████████████████▊   | 675kB 50.0MB/s eta 0:00:01\r\u001b[K    90% |█████████████████████████████▏  | 686kB 50.1MB/s eta 0:00:01\r\u001b[K    92% |█████████████████████████████▌  | 696kB 50.2MB/s eta 0:00:01\r\u001b[K    93% |██████████████████████████████  | 706kB 49.5MB/s eta 0:00:01\r\u001b[K    95% |██████████████████████████████▍ | 716kB 49.5MB/s eta 0:00:01\r\u001b[K    96% |██████████████████████████████▉ | 727kB 49.6MB/s eta 0:00:01\r\u001b[K    97% |███████████████████████████████▎| 737kB 48.5MB/s eta 0:00:01\r\u001b[K    99% |███████████████████████████████▊| 747kB 48.3MB/s eta 0:00:01\r\u001b[K    100% |████████████████████████████████| 757kB 19.5MB/s \n",
            "\u001b[?25h"
          ],
          "name": "stdout"
        }
      ]
    },
    {
      "metadata": {
        "id": "s5DQtipYw3js",
        "colab_type": "code",
        "colab": {}
      },
      "cell_type": "code",
      "source": [
        "train = pd.read_csv(DATA_PATH+\"train.csv\")\n",
        "\n",
        "test = pd.read_csv(DATA_PATH+\"test.csv\")\n",
        "\n",
        "submission = pd.read_csv(DATA_PATH+\"sample_submission.csv\")"
      ],
      "execution_count": 0,
      "outputs": []
    },
    {
      "metadata": {
        "id": "I_fKrAu3O2Ln",
        "colab_type": "code",
        "colab": {}
      },
      "cell_type": "code",
      "source": [
        "def func(x):\n",
        "  words = (x['Word'].values.tolist())\n",
        "  tags = (x['tag'].values.tolist())\n",
        "  temp_list = []\n",
        "  for word, tag in zip(words, tags):\n",
        "    temp_list.append((word, tag))\n",
        "  return temp_list\n",
        "\n",
        "grouped = train.groupby('Sent_ID').apply(func)\n",
        "\n",
        "word_tag = [wt for wt in grouped]"
      ],
      "execution_count": 0,
      "outputs": []
    },
    {
      "metadata": {
        "id": "CmvtEXIpQKXz",
        "colab_type": "code",
        "colab": {}
      },
      "cell_type": "code",
      "source": [
        "def doc2features(doc, i):\n",
        "  \n",
        "  word = str(doc[i][0])\n",
        "  \n",
        "  features={'word.word': word,\n",
        "            'bias':1.0,\n",
        "            'word.lower()':word.lower(),\n",
        "            'word.isupper()': word.isupper(),\n",
        "            'word.istitle()': word.istitle(),\n",
        "            'word.isdigit()': word.isdigit()}\n",
        "  \n",
        "  if i > 0:\n",
        "    prevword = str(doc[i-1][0])\n",
        "    features['word.prevword'] = prevword\n",
        "    features['-1:word.lower()'] = prevword.lower()\n",
        "    features['-1:word.isupper()'] = prevword.isupper()\n",
        "    features['-1:word.istitle()'] = prevword.istitle()\n",
        "  else:\n",
        "    features['BOS'] = True\n",
        "        \n",
        "  if i < len(doc)-1:\n",
        "    nextword = str(doc[i+1][0])\n",
        "    features['word.nextword'] = nextword\n",
        "    features['+1:word.lower()'] = nextword.lower()\n",
        "    features['+1:word.isupper()'] = nextword.isupper()\n",
        "    features['+1:word.istitle()'] = nextword.istitle()\n",
        "  else:\n",
        "    features['EOS'] = True\n",
        "  return features\n",
        "  \n",
        "def extract_features(doc):\n",
        "    return [doc2features(doc, i) for i in range(len(doc))]\n",
        "  \n",
        "def get_labels(doc):\n",
        "    return [tag for (token,tag) in doc]"
      ],
      "execution_count": 0,
      "outputs": []
    },
    {
      "metadata": {
        "id": "tr6XPhxFW2Gx",
        "colab_type": "code",
        "colab": {}
      },
      "cell_type": "code",
      "source": [
        "X = [extract_features(doc) for doc in word_tag]\n",
        "y = [get_labels(doc) for doc in word_tag]\n",
        "\n",
        "X_train, X_test, y_train, y_test = train_test_split(X, y,\n",
        "                                                    test_size=0.1,\n",
        "                                                    random_state=42)"
      ],
      "execution_count": 0,
      "outputs": []
    },
    {
      "metadata": {
        "id": "aWuAbYl8XWg0",
        "colab_type": "code",
        "colab": {}
      },
      "cell_type": "code",
      "source": [
        "crf = sklearn_crfsuite.CRF(algorithm='lbfgs',\n",
        "                           c1=0.0325, c2=0.1, max_iterations=500,\n",
        "                           all_possible_transitions=True)"
      ],
      "execution_count": 0,
      "outputs": []
    },
    {
      "metadata": {
        "id": "vklB5etNXbiU",
        "colab_type": "code",
        "outputId": "2f24a795-b8b9-4f36-ecda-4c20bd0bed48",
        "colab": {
          "base_uri": "https://localhost:8080/",
          "height": 170
        }
      },
      "cell_type": "code",
      "source": [
        "crf.fit(X_train, y_train)"
      ],
      "execution_count": 12,
      "outputs": [
        {
          "output_type": "execute_result",
          "data": {
            "text/plain": [
              "CRF(algorithm='lbfgs', all_possible_states=None,\n",
              "  all_possible_transitions=True, averaging=None, c=None, c1=0.0325, c2=0.1,\n",
              "  calibration_candidates=None, calibration_eta=None,\n",
              "  calibration_max_trials=None, calibration_rate=None,\n",
              "  calibration_samples=None, delta=None, epsilon=None, error_sensitive=None,\n",
              "  gamma=None, keep_tempfiles=None, linesearch=None, max_iterations=500,\n",
              "  max_linesearch=None, min_freq=None, model_filename=None,\n",
              "  num_memories=None, pa_type=None, period=None, trainer_cls=None,\n",
              "  variance=None, verbose=False)"
            ]
          },
          "metadata": {
            "tags": []
          },
          "execution_count": 12
        }
      ]
    },
    {
      "metadata": {
        "id": "ItCQvjRNXfcx",
        "colab_type": "code",
        "colab": {}
      },
      "cell_type": "code",
      "source": [
        "labels = crf.classes_"
      ],
      "execution_count": 0,
      "outputs": []
    },
    {
      "metadata": {
        "id": "Jurw7ieCYOi-",
        "colab_type": "code",
        "outputId": "b34bf6aa-3bc0-48b2-f15d-eb44ff4045ce",
        "colab": {
          "base_uri": "https://localhost:8080/",
          "height": 34
        }
      },
      "cell_type": "code",
      "source": [
        "y_pred = crf.predict(X_test)\n",
        "metrics.flat_f1_score(y_test, y_pred,\n",
        "                      average='weighted', labels=labels)"
      ],
      "execution_count": 14,
      "outputs": [
        {
          "output_type": "execute_result",
          "data": {
            "text/plain": [
              "0.9924639453687263"
            ]
          },
          "metadata": {
            "tags": []
          },
          "execution_count": 14
        }
      ]
    },
    {
      "metadata": {
        "id": "Gdmh65G2YY9-",
        "colab_type": "code",
        "colab": {}
      },
      "cell_type": "code",
      "source": [
        "def func_test(x):\n",
        "  words = (x['Word'].values.tolist())\n",
        "  return words\n",
        "\n",
        "grouped_test = test.groupby('Sent_ID').apply(func_test)\n",
        "\n",
        "word_test = [wt for wt in grouped_test]"
      ],
      "execution_count": 0,
      "outputs": []
    },
    {
      "metadata": {
        "id": "_Uy8rg5NZr_b",
        "colab_type": "code",
        "colab": {}
      },
      "cell_type": "code",
      "source": [
        "def doc2features_test(doc, i):\n",
        "  \n",
        "  word = str(doc[i])\n",
        "  \n",
        "  features={'word.word': word,\n",
        "            'bias':1.0,\n",
        "            'word.lower()':word.lower(),\n",
        "            'word.isupper()': word.isupper(),\n",
        "            'word.istitle()': word.istitle(),\n",
        "            'word.isdigit()': word.isdigit()}\n",
        "  \n",
        "  if i > 0:\n",
        "    prevword = str(doc[i-1])\n",
        "    features['word.prevword'] = prevword\n",
        "    features['-1:word.lower()'] = prevword.lower()\n",
        "    features['-1:word.isupper()'] = prevword.isupper()\n",
        "    features['-1:word.istitle()'] = prevword.istitle()\n",
        "  else:\n",
        "    features['BOS'] = True\n",
        "        \n",
        "  if i < len(doc)-1:\n",
        "    nextword = str(doc[i+1])\n",
        "    features['word.nextword'] = nextword\n",
        "    features['+1:word.lower()'] = nextword.lower()\n",
        "    features['+1:word.isupper()'] = nextword.isupper()\n",
        "    features['+1:word.istitle()'] = nextword.istitle()\n",
        "  else:\n",
        "    features['EOS'] = True\n",
        "  return features\n",
        "  \n",
        "def extract_features_test(doc):\n",
        "    return [doc2features_test(doc, i) for i in range(len(doc))]"
      ],
      "execution_count": 0,
      "outputs": []
    },
    {
      "metadata": {
        "id": "0IUm7r6GZupT",
        "colab_type": "code",
        "colab": {}
      },
      "cell_type": "code",
      "source": [
        "test_X = [extract_features_test(doc) for doc in word_test]"
      ],
      "execution_count": 0,
      "outputs": []
    },
    {
      "metadata": {
        "id": "087PAZG-eEGT",
        "colab_type": "code",
        "colab": {}
      },
      "cell_type": "code",
      "source": [
        "y_submit = crf.predict(test_X)"
      ],
      "execution_count": 0,
      "outputs": []
    },
    {
      "metadata": {
        "id": "79gBZckxjBmE",
        "colab_type": "code",
        "colab": {}
      },
      "cell_type": "code",
      "source": [
        "answers = []\n",
        "\n",
        "for tags in y_submit:\n",
        "  for tag in tags:\n",
        "    answers.append(tag)"
      ],
      "execution_count": 0,
      "outputs": []
    },
    {
      "metadata": {
        "id": "phH4i8ysjbNw",
        "colab_type": "code",
        "colab": {}
      },
      "cell_type": "code",
      "source": [
        "submission.tag = answers"
      ],
      "execution_count": 0,
      "outputs": []
    },
    {
      "metadata": {
        "id": "wvbINN-8miQp",
        "colab_type": "code",
        "colab": {}
      },
      "cell_type": "code",
      "source": [
        "attempt = 5\n",
        "submission.to_csv(\"submission_{}.csv\".format(attempt), index=False)"
      ],
      "execution_count": 0,
      "outputs": []
    },
    {
      "metadata": {
        "id": "jNkd0aPsm8Vu",
        "colab_type": "code",
        "colab": {}
      },
      "cell_type": "code",
      "source": [
        ""
      ],
      "execution_count": 0,
      "outputs": []
    }
  ]
}